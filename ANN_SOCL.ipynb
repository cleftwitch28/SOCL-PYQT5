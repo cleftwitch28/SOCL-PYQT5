{
  "nbformat": 4,
  "nbformat_minor": 0,
  "metadata": {
    "colab": {
      "provenance": [],
      "mount_file_id": "1AKIgVd3adxm2LDqEqTOTDzv6RdK1w76q",
      "authorship_tag": "ABX9TyPgwqGOg//6tZikJ7jjQ5I6",
      "include_colab_link": true
    },
    "kernelspec": {
      "name": "python3",
      "display_name": "Python 3"
    },
    "language_info": {
      "name": "python"
    }
  },
  "cells": [
    {
      "cell_type": "markdown",
      "metadata": {
        "id": "view-in-github",
        "colab_type": "text"
      },
      "source": [
        "<a href=\"https://colab.research.google.com/github/cleftwitch28/SOCL-PYQT5/blob/main/ANN_SOCL.ipynb\" target=\"_parent\"><img src=\"https://colab.research.google.com/assets/colab-badge.svg\" alt=\"Open In Colab\"/></a>"
      ]
    },
    {
      "cell_type": "code",
      "execution_count": null,
      "metadata": {
        "id": "vpWiaLB9PrT6"
      },
      "outputs": [],
      "source": [
        "\n",
        "import torch\n",
        "import torch.nn as nn\n",
        "import torch.optim as optim\n",
        "import torchvision\n",
        "import torchvision.transforms as transforms\n",
        "from sklearn import metrics\n",
        "from sklearn.metrics import accuracy_score, confusion_matrix\n",
        "from sklearn.model_selection import train_test_split\n",
        "\n",
        "# Define a simple ANN architecture\n",
        "class ANN(nn.Module):\n",
        "    def __init__(self):\n",
        "        super(ANN, self).__init__()\n",
        "        self.fc1 = nn.Linear(3 * 32 * 32, 128)  # Assuming 3-channel (RGB) images of size 32x32\n",
        "        self.fc2 = nn.Linear(128, 64)\n",
        "        self.fc3 = nn.Linear(64, 4)  # 10 classes in CIFAR-10\n",
        "\n",
        "    def forward(self, x):\n",
        "        x = x.view(-1, 3 * 32 * 32)  # Flatten the input\n",
        "        x = torch.relu(self.fc1(x))\n",
        "        x = torch.relu(self.fc2(x))\n",
        "        x = self.fc3(x)\n",
        "        return x\n",
        "\n",
        "# Load CIFAR-10 dataset\n",
        "transform = transforms.Compose([\n",
        "    transforms.Resize(32),  # Resize images to 32x32\n",
        "    transforms.CenterCrop(32),  # Center crop to ensure 32x32\n",
        "    transforms.ToTensor(),\n",
        "    transforms.Normalize((0.5, 0.5, 0.5), (0.5, 0.5, 0.5))\n",
        "])\n",
        "trainset = torchvision.datasets.ImageFolder(\n",
        "        root=\"/content/drive/MyDrive/Dataset/Train\",\n",
        "        transform=transform\n",
        "    )\n",
        "trainloader = torch.utils.data.DataLoader(trainset, batch_size=64, shuffle=True)\n",
        "\n",
        "# Initialize the model and optimizer\n",
        "device = torch.device(\"cuda\" if torch.cuda.is_available() else \"cpu\")\n",
        "net = ANN().to(device)\n",
        "criterion = nn.CrossEntropyLoss()\n",
        "optimizer = optim.Adam(net.parameters(), lr=0.001)\n",
        "\n",
        "# Training loop\n",
        "for epoch in range(10):  # Adjust the number of epochs as needed\n",
        "    for i, data in enumerate(trainloader, 0):\n",
        "        inputs, labels = data\n",
        "        inputs, labels = inputs.to(device), labels.to(device)\n",
        "\n",
        "        optimizer.zero_grad()\n",
        "        outputs = net(inputs)\n",
        "        loss = criterion(outputs, labels)\n",
        "        loss.backward()\n",
        "        optimizer.step()\n",
        "\n",
        "        if i % 100 == 99:\n",
        "            print(f\"Epoch {epoch+1}, Batch {i+1}, Loss: {loss.item():.4f}\")\n",
        "\n",
        "print(\"Training finished!\")\n",
        "\n",
        "# Now you can use the trained model for inference on new images\n",
        "# (Remember to preprocess the input image similarly to the training data)\n"
      ]
    },
    {
      "cell_type": "code",
      "source": [
        "y_test=\"/content/drive/MyDrive/Dataset/test\"\n",
        "\n",
        "test_dataset = torchvision.datasets.ImageFolder(\n",
        "        root=y_test,\n",
        "        transform=transform\n",
        "    )\n",
        "testloader = torch.utils.data.DataLoader(test_dataset, batch_size=64, shuffle=True)\n",
        "true_labels = []\n",
        "predictions = []\n",
        "with torch.no_grad(): # No need to calculate gradients for evaluation\n",
        "    for inputs, labels in testloader:\n",
        "        inputs, labels = inputs.to(device), labels.to(device)\n",
        "        outputs = net(inputs)\n",
        "        _, predicted = torch.max(outputs.data, 1)\n",
        "        true_labels.extend(labels.cpu().numpy())\n",
        "        predictions.extend(predicted.cpu().numpy())\n",
        "\n",
        "from sklearn.metrics import confusion_matrix, ConfusionMatrixDisplay\n",
        "import matplotlib.pyplot as plt\n",
        "import seaborn as sns\n",
        "import pandas as pd\n",
        "import numpy as np\n",
        "# Assuming 'y_test' contains ground truth labels and 'predictions' contains model predictions\n",
        "cm = confusion_matrix(true_labels, predictions)\n",
        "labels = [\"Alluvial Soil\",\"Black Soil\",\"Clay Soil\",\"Red Soil\"]\n",
        "\n",
        "df_cm = pd.DataFrame(cm, index = labels, columns = labels)\n",
        "plt.figure(figsize = (7,7))\n",
        "sns.heatmap(df_cm, annot=True, cmap=plt.cm.Blues, fmt='g')\n",
        "plt.xlabel(\"Predicted Shape\", fontsize = 20)\n",
        "plt.ylabel(\"True Shape\", fontsize = 20)\n",
        "plt.show()\n"
      ],
      "metadata": {
        "id": "Uy-OMiD9VmEE"
      },
      "execution_count": null,
      "outputs": []
    },
    {
      "cell_type": "code",
      "source": [
        "from sklearn.metrics import roc_curve, auc, f1_score\n",
        "\n",
        "fpr, tpr, thresholds = roc_curve(true_labels, predictions)\n",
        "roc_auc = auc(fpr, tpr)"
      ],
      "metadata": {
        "id": "6kD9AP2RrvKD"
      },
      "execution_count": null,
      "outputs": []
    },
    {
      "cell_type": "code",
      "source": [
        "def Predict_class():\n",
        "  inp=\"/content/drive/MyDrive/Dataset/test/Clay soil/Clay_4.jpg\"\n",
        "  from PIL import Image # Import Image from PIL to open image file\n",
        "  img = Image.open(inp)\n",
        "  transform = transforms.Compose([\n",
        "    transforms.Resize(32),  # Resize images to 32x32\n",
        "    transforms.CenterCrop(32),  # Center crop to ensure 32x32\n",
        "    transforms.ToTensor(),\n",
        "    transforms.Normalize((0.5, 0.5, 0.5), (0.5, 0.5, 0.5))\n",
        "])\n",
        "  inp = transform(img)\n",
        "  output=net(inp)\n",
        "  print(output.argmax())\n",
        "  if output.argmax() == 0:\n",
        "      print(\"The given Image belongs to Alluvial Soil\")\n",
        "  elif output.argmax() == 1:\n",
        "    print(\"The given Image belongs to Black Soil\")\n",
        "  elif output.argmax() == 2:\n",
        "    print(\"The given Image belongs to Clay Soil\")\n",
        "  elif output.argmax() == 3:\n",
        "    print(\"The given Image belongs to Red Soil\")\n",
        "\n",
        "Predict_class()"
      ],
      "metadata": {
        "id": "BupNZi_LSXct"
      },
      "execution_count": null,
      "outputs": []
    },
    {
      "cell_type": "code",
      "source": [
        "from google.colab import drive\n",
        "drive.mount('/content/drive')"
      ],
      "metadata": {
        "id": "vhddI6xlP3Em"
      },
      "execution_count": null,
      "outputs": []
    }
  ]
}